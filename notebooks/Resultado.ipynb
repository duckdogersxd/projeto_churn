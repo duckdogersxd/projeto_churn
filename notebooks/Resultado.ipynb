{
 "cells": [
  {
   "cell_type": "code",
   "execution_count": 17,
   "id": "75ef5b89",
   "metadata": {},
   "outputs": [],
   "source": [
    "import pandas as pd\n",
    "import joblib"
   ]
  },
  {
   "cell_type": "code",
   "execution_count": 18,
   "id": "757ea02d",
   "metadata": {},
   "outputs": [
    {
     "name": "stdout",
     "output_type": "stream",
     "text": [
      "--- Resumo por Quintil (Baseado em Quantis - qcut) ---\n",
      "  Predicted_Prob_Quintile_qcut  Count Actual_Churn_Rate Avg_Predicted_Prob\n",
      "0                           Q1    423             1.42%              1.43%\n",
      "1                           Q2    422             7.35%              7.84%\n",
      "2                           Q3    423            18.20%             22.65%\n",
      "3                           Q4    422            40.05%             43.58%\n",
      "4                           Q5    423            65.72%             69.89%\n"
     ]
    }
   ],
   "source": [
    "model_path = '../models/XGBoost_fold_1_model.joblib'\n",
    "df_test = pd.read_csv('../data/fold3_no_scale.csv')\n",
    "\n",
    "target = 'Churn'\n",
    "\n",
    "df_test[target] = pd.to_numeric(df_test[target], errors='coerce').astype(int)\n",
    "df_test.dropna(subset=[target], inplace=True)\n",
    "\n",
    "loaded_model = joblib.load(model_path)\n",
    "\n",
    "X_churn = df_test.drop(columns=[target])\n",
    "prediction_probabilities = loaded_model.predict_proba(X_churn)\n",
    "df_test['predicted_churn_prob'] = prediction_probabilities[:, 1]\n",
    "\n",
    "num_quintiles = 5\n",
    "labels = [f'Q{i}' for i in range(1, num_quintiles + 1)]\n",
    "\n",
    "df_test['Predicted_Prob_Quintile_qcut'] = pd.qcut(\n",
    "    df_test['predicted_churn_prob'],\n",
    "    q=num_quintiles,\n",
    "    labels=labels,\n",
    "    duplicates='drop'\n",
    ")\n",
    "\n",
    "print(\"--- Resumo por Quintil (Baseado em Quantis - qcut) ---\")\n",
    "summary = df_test.groupby('Predicted_Prob_Quintile_qcut', observed=False).agg(\n",
    "    Count=('Predicted_Prob_Quintile_qcut', 'size'),\n",
    "    Actual_Churn_Rate=('Churn', 'mean'),\n",
    "    Avg_Predicted_Prob=('predicted_churn_prob', 'mean')\n",
    ").reset_index()\n",
    "\n",
    "summary['Actual_Churn_Rate'] = summary['Actual_Churn_Rate'].map('{:.2%}'.format)\n",
    "summary['Avg_Predicted_Prob'] = summary['Avg_Predicted_Prob'].map('{:.2%}'.format)\n",
    "print(summary)\n"
   ]
  },
  {
   "cell_type": "code",
   "execution_count": 19,
   "id": "a1fc4ae5",
   "metadata": {},
   "outputs": [
    {
     "name": "stdout",
     "output_type": "stream",
     "text": [
      "--- Resumo por Quintil  ---\n",
      "  Predicted_Prob_Quintile_qcut  Count Actual_Churn_Rate Avg_Predicted_Prob\n",
      "0                           Q1    423             0.24%              1.78%\n",
      "1                           Q2    422             6.87%              9.06%\n",
      "2                           Q3    423            18.44%             24.70%\n",
      "3                           Q4    422            40.76%             43.99%\n",
      "4                           Q5    423            66.43%             69.56%\n"
     ]
    }
   ],
   "source": [
    "model_path = '../models/MLP_fold_1_model.joblib'\n",
    "df_test = pd.read_csv('../data/fold3.csv')\n",
    "\n",
    "target = 'Churn'\n",
    "\n",
    "df_test[target] = pd.to_numeric(df_test[target], errors='coerce').astype(int)\n",
    "df_test.dropna(subset=[target], inplace=True)\n",
    "\n",
    "loaded_model = joblib.load(model_path)\n",
    "\n",
    "X_churn = df_test.drop(columns=[target])\n",
    "prediction_probabilities = loaded_model.predict_proba(X_churn)\n",
    "df_test['predicted_churn_prob'] = prediction_probabilities[:, 1]\n",
    "\n",
    "num_quintiles = 5\n",
    "labels = [f'Q{i}' for i in range(1, num_quintiles + 1)]\n",
    "\n",
    "df_test['Predicted_Prob_Quintile_qcut'] = pd.qcut(\n",
    "    df_test['predicted_churn_prob'],\n",
    "    q=num_quintiles,\n",
    "    labels=labels,\n",
    "    duplicates='drop'\n",
    ")\n",
    "\n",
    "print(\"--- Resumo por Quintil  ---\")\n",
    "summary = df_test.groupby('Predicted_Prob_Quintile_qcut', observed=False).agg(\n",
    "    Count=('Predicted_Prob_Quintile_qcut', 'size'),\n",
    "    Actual_Churn_Rate=('Churn', 'mean'),\n",
    "    Avg_Predicted_Prob=('predicted_churn_prob', 'mean')\n",
    ").reset_index()\n",
    "\n",
    "summary['Actual_Churn_Rate'] = summary['Actual_Churn_Rate'].map('{:.2%}'.format)\n",
    "summary['Avg_Predicted_Prob'] = summary['Avg_Predicted_Prob'].map('{:.2%}'.format)\n",
    "print(summary)\n"
   ]
  },
  {
   "cell_type": "code",
   "execution_count": 20,
   "id": "60ca2f79",
   "metadata": {},
   "outputs": [
    {
     "name": "stdout",
     "output_type": "stream",
     "text": [
      "--- Resumo por Quintil  ---\n",
      "  Predicted_Prob_Quintile_qcut  Count Actual_Churn_Rate Avg_Predicted_Prob\n",
      "0                           Q1    423             1.18%              2.61%\n",
      "1                           Q2    422             7.82%             11.59%\n",
      "2                           Q3    423            17.97%             25.52%\n",
      "3                           Q4    422            40.05%             43.25%\n",
      "4                           Q5    423            65.72%             63.72%\n"
     ]
    }
   ],
   "source": [
    "model_path = '../models/Random Forest_fold_1_model.joblib'\n",
    "df_test = pd.read_csv('../data/fold3_no_scale.csv')\n",
    "\n",
    "target = 'Churn'\n",
    "\n",
    "df_test[target] = pd.to_numeric(df_test[target], errors='coerce').astype(int)\n",
    "df_test.dropna(subset=[target], inplace=True)\n",
    "\n",
    "loaded_model = joblib.load(model_path)\n",
    "\n",
    "X_churn = df_test.drop(columns=[target])\n",
    "prediction_probabilities = loaded_model.predict_proba(X_churn)\n",
    "df_test['predicted_churn_prob'] = prediction_probabilities[:, 1]\n",
    "\n",
    "num_quintiles = 5\n",
    "labels = [f'Q{i}' for i in range(1, num_quintiles + 1)]\n",
    "\n",
    "df_test['Predicted_Prob_Quintile_qcut'] = pd.qcut(\n",
    "    df_test['predicted_churn_prob'],\n",
    "    q=num_quintiles,\n",
    "    labels=labels,\n",
    "    duplicates='drop'\n",
    ")\n",
    "\n",
    "print(\"--- Resumo por Quintil  ---\")\n",
    "summary = df_test.groupby('Predicted_Prob_Quintile_qcut', observed=False).agg(\n",
    "    Count=('Predicted_Prob_Quintile_qcut', 'size'),\n",
    "    Actual_Churn_Rate=('Churn', 'mean'),\n",
    "    Avg_Predicted_Prob=('predicted_churn_prob', 'mean')\n",
    ").reset_index()\n",
    "\n",
    "summary['Actual_Churn_Rate'] = summary['Actual_Churn_Rate'].map('{:.2%}'.format)\n",
    "summary['Avg_Predicted_Prob'] = summary['Avg_Predicted_Prob'].map('{:.2%}'.format)\n",
    "print(summary)\n"
   ]
  }
 ],
 "metadata": {
  "kernelspec": {
   "display_name": "base",
   "language": "python",
   "name": "python3"
  },
  "language_info": {
   "codemirror_mode": {
    "name": "ipython",
    "version": 3
   },
   "file_extension": ".py",
   "mimetype": "text/x-python",
   "name": "python",
   "nbconvert_exporter": "python",
   "pygments_lexer": "ipython3",
   "version": "3.9.21"
  }
 },
 "nbformat": 4,
 "nbformat_minor": 5
}
